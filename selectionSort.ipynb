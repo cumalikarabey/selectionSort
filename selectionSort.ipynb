{
 "cells": [
  {
   "cell_type": "markdown",
   "id": "477517f3",
   "metadata": {},
   "source": [
    "# Selection Sort"
   ]
  },
  {
   "cell_type": "code",
   "execution_count": 7,
   "id": "9b6eb963",
   "metadata": {},
   "outputs": [],
   "source": [
    "import random as rnd\n",
    "import numpy as np"
   ]
  },
  {
   "cell_type": "code",
   "execution_count": 8,
   "id": "1af4fa5a",
   "metadata": {},
   "outputs": [],
   "source": [
    "def create_list(x):\n",
    "    list_1 = []\n",
    "    for i in range(x):\n",
    "        e = rnd.randint(-30,30)\n",
    "        list_1.append(e)\n",
    "    return list_1"
   ]
  },
  {
   "cell_type": "code",
   "execution_count": 9,
   "id": "b2908681",
   "metadata": {},
   "outputs": [
    {
     "data": {
      "text/plain": [
       "[-21, 23, 16, 23, -11, 4, -15, -11, 27, -5]"
      ]
     },
     "execution_count": 9,
     "metadata": {},
     "output_type": "execute_result"
    }
   ],
   "source": [
    "list_1 = create_list(10)\n",
    "list_1"
   ]
  },
  {
   "cell_type": "code",
   "execution_count": 10,
   "id": "ab64bab1",
   "metadata": {},
   "outputs": [],
   "source": [
    "for i in range(len(list_1)):\n",
    "    mini = list_1[i]\n",
    "    for j in range(i+1,len(list_1)):\n",
    "        if list_1[j] < mini:\n",
    "            mini = list_1[j]\n",
    "            list_1[j] = list_1[i]\n",
    "            list_1[i] = mini\n",
    "            "
   ]
  },
  {
   "cell_type": "code",
   "execution_count": 11,
   "id": "e239b3d4",
   "metadata": {},
   "outputs": [
    {
     "data": {
      "text/plain": [
       "[-21, -15, -11, -11, -5, 4, 16, 23, 23, 27]"
      ]
     },
     "execution_count": 11,
     "metadata": {},
     "output_type": "execute_result"
    }
   ],
   "source": [
    "list_1"
   ]
  },
  {
   "cell_type": "code",
   "execution_count": null,
   "id": "4eb893cd",
   "metadata": {},
   "outputs": [],
   "source": []
  }
 ],
 "metadata": {
  "kernelspec": {
   "display_name": "Python 3 (ipykernel)",
   "language": "python",
   "name": "python3"
  },
  "language_info": {
   "codemirror_mode": {
    "name": "ipython",
    "version": 3
   },
   "file_extension": ".py",
   "mimetype": "text/x-python",
   "name": "python",
   "nbconvert_exporter": "python",
   "pygments_lexer": "ipython3",
   "version": "3.9.12"
  }
 },
 "nbformat": 4,
 "nbformat_minor": 5
}
